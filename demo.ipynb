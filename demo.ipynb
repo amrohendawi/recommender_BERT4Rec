{
 "cells": [
  {
   "cell_type": "code",
   "execution_count": 1,
   "outputs": [],
   "source": [
    "from recommender.Recommender import Recommender"
   ],
   "metadata": {
    "collapsed": false,
    "pycharm": {
     "name": "#%%\n"
    }
   }
  },
  {
   "cell_type": "code",
   "execution_count": 2,
   "id": "80c7cc4e",
   "metadata": {
    "pycharm": {
     "name": "#%%\n"
    }
   },
   "outputs": [],
   "source": [
    "model = Recommender()\n",
    "model.prepare_model(model_path=\"recommender/recommender_models/recommender-v2.ckpt\",\n",
    "                    movies_path=\"data/ml-25m/movies.csv\",\n",
    "                    ratings_path=\"data/ml-25m/ratings.csv\"\n",
    "                    )"
   ]
  },
  {
   "cell_type": "markdown",
   "id": "1f0e44c1",
   "metadata": {
    "pycharm": {
     "name": "#%% md\n"
    }
   },
   "source": [
    "### Senario 1: Adventure/Fantasy"
   ]
  },
  {
   "cell_type": "code",
   "execution_count": 3,
   "id": "5dae87be",
   "metadata": {
    "pycharm": {
     "name": "#%%\n"
    }
   },
   "outputs": [
    {
     "data": {
      "text/plain": "['Harry Potter and the Order of the Phoenix (2007)',\n 'Harry Potter and the Half-Blood Prince (2009)',\n \"Pirates of the Caribbean: Dead Man's Chest (2006)\",\n 'Harry Potter and the Deathly Hallows: Part 1 (2010)',\n 'Ice Age (2002)',\n 'Harry Potter and the Deathly Hallows: Part 2 (2011)',\n 'Avatar (2009)',\n 'I, Robot (2004)',\n 'Matrix Revolutions, The (2003)',\n 'Up (2009)']"
     },
     "execution_count": 3,
     "metadata": {},
     "output_type": "execute_result"
    }
   ],
   "source": [
    "list_movies = [\"Harry Potter and the Sorcerer's Stone (a.k.a. Harry Potter and the Philosopher's Stone) (2001)\",\n",
    "               \"Harry Potter and the Chamber of Secrets (2002)\",\n",
    "               \"Harry Potter and the Prisoner of Azkaban (2004)\",\n",
    "               \"Harry Potter and the Goblet of Fire (2005)\"]\n",
    "\n",
    "model.predict(list_movies, top_n=10)"
   ]
  },
  {
   "cell_type": "markdown",
   "id": "afb4b657",
   "metadata": {
    "pycharm": {
     "name": "#%% md\n"
    }
   },
   "source": [
    "### Senario 2:  Action/Adventure"
   ]
  },
  {
   "cell_type": "code",
   "execution_count": 4,
   "id": "96f0c5d3",
   "metadata": {
    "pycharm": {
     "name": "#%%\n"
    }
   },
   "outputs": [
    {
     "data": {
      "text/plain": "['Thor: Ragnarok (2017)',\n 'Deadpool 2 (2018)',\n 'Incredibles 2 (2018)',\n 'Avengers: Infinity War - Part II (2019)',\n 'Spider-Man: Into the Spider-Verse (2018)',\n 'Pirates of the Caribbean: The Curse of the Black Pearl (2003)',\n 'Untitled Spider-Man Reboot (2017)',\n 'Coco (2017)',\n 'Ant-Man and the Wasp (2018)',\n 'Aquaman (2018)']"
     },
     "execution_count": 4,
     "metadata": {},
     "output_type": "execute_result"
    }
   ],
   "source": [
    "list_movies = [\"Black Panther (2017)\",\n",
    "               \"Avengers, The (2012)\",\n",
    "               \"Avengers: Infinity War - Part I (2018)\",\n",
    "               \"Logan (2017)\",\n",
    "               \"Spider-Man (2002)\",\n",
    "               \"Spider-Man 3 (2007)\",\n",
    "               \"Spider-Man: Far from Home (2019)\"]\n",
    "\n",
    "model.predict(list_movies, top_n=10)"
   ]
  },
  {
   "cell_type": "markdown",
   "id": "a22ddfeb",
   "metadata": {
    "pycharm": {
     "name": "#%% md\n"
    }
   },
   "source": [
    "### Senario 3: Comedy"
   ]
  },
  {
   "cell_type": "code",
   "execution_count": 5,
   "id": "b3f01cbc",
   "metadata": {
    "pycharm": {
     "name": "#%%\n"
    }
   },
   "outputs": [
    {
     "data": {
      "text/plain": "['Nightmare Before Christmas, The (1993)',\n \"Bug's Life, A (1998)\",\n 'Home Alone (1990)',\n 'Mean Girls (2004)',\n 'Cloudy with a Chance of Meatballs (2009)',\n 'Charlie and the Chocolate Factory (2005)',\n 'Jumanji (1995)',\n 'American Pie (1999)',\n 'Clueless (1995)']"
     },
     "execution_count": 5,
     "metadata": {},
     "output_type": "execute_result"
    }
   ],
   "source": [
    "list_movies = [\"Zootopia (2016)\",\n",
    "               \"Toy Story 3 (2010)\",\n",
    "               \"Toy Story 4 (2019)\",\n",
    "               \"Finding Nemo (2003)\",\n",
    "               \"Ratatouille (2007)\",\n",
    "               \"The Lego Movie (2014)\",\n",
    "               \"Ghostbusters (a.k.a. Ghost Busters) (1984)\",\n",
    "               \"Ace Ventura: When Nature Calls (1995)\"]\n",
    "model.predict(list_movies, top_n=10)"
   ]
  },
  {
   "cell_type": "markdown",
   "source": [
    "### Senario 4: 6/7 Adventure/Fantasy & 1/7 Action"
   ],
   "metadata": {
    "collapsed": false,
    "pycharm": {
     "name": "#%% md\n"
    }
   }
  },
  {
   "cell_type": "code",
   "execution_count": 6,
   "id": "f9434a0e",
   "metadata": {
    "pycharm": {
     "name": "#%%\n"
    }
   },
   "outputs": [
    {
     "data": {
      "text/plain": "['Lord of the Rings: The Two Towers, The (2002)',\n 'Avengers: Infinity War - Part I (2018)',\n 'Matrix, The (1999)',\n 'Coco (2017)',\n 'Thor: Ragnarok (2017)',\n 'Dark Knight, The (2008)',\n 'Incredibles 2 (2018)',\n 'Inception (2010)',\n 'Spider-Man: Into the Spider-Verse (2018)',\n 'Shawshank Redemption, The (1994)']"
     },
     "execution_count": 6,
     "metadata": {},
     "output_type": "execute_result"
    }
   ],
   "source": [
    "list_movies = [\"Lord of the Rings, The (1978)\",\n",
    "               \"Lord of the Rings: The Fellowship of the Ring, The (2001)\",\n",
    "               \"Hobbit: An Unexpected Journey, The (2012)\",\n",
    "               \"Lord of the Rings: The Return of the King, The (2003)\",\n",
    "               \"Chronicles of Narnia: The Lion, the Witch and the Wardrobe, The (2005)\",\n",
    "               \"Hobbit: The Desolation of Smaug, The (2013)\",\n",
    "               \"Deadpool 2 (2018)\",\n",
    "               ]\n",
    "model.predict(list_movies, top_n=10)"
   ]
  },
  {
   "cell_type": "code",
   "execution_count": null,
   "outputs": [],
   "source": [],
   "metadata": {
    "collapsed": false,
    "pycharm": {
     "name": "#%%\n"
    }
   }
  }
 ],
 "metadata": {
  "kernelspec": {
   "display_name": "Python 3",
   "language": "python",
   "name": "python3"
  },
  "language_info": {
   "codemirror_mode": {
    "name": "ipython",
    "version": 3
   },
   "file_extension": ".py",
   "mimetype": "text/x-python",
   "name": "python",
   "nbconvert_exporter": "python",
   "pygments_lexer": "ipython3",
   "version": "3.8.8"
  }
 },
 "nbformat": 4,
 "nbformat_minor": 5
}